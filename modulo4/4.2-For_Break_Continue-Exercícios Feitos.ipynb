{
  "metadata": {
    "kernelspec": {
      "name": "python",
      "display_name": "Python (Pyodide)",
      "language": "python"
    },
    "language_info": {
      "codemirror_mode": {
        "name": "python",
        "version": 3
      },
      "file_extension": ".py",
      "mimetype": "text/x-python",
      "name": "python",
      "nbconvert_exporter": "python",
      "pygments_lexer": "ipython3",
      "version": "3.8"
    }
  },
  "nbformat_minor": 5,
  "nbformat": 4,
  "cells": [
    {
      "id": "29e89030",
      "cell_type": "markdown",
      "source": "# Módulo 4 - Repetições\n\n## Aulas 4.2 - Comando ```for``` e 4.3 Break e Continue",
      "metadata": {}
    },
    {
      "id": "a45b42df",
      "cell_type": "markdown",
      "source": "### Q1.\n\nCrie um programa em Python que utilize o comando for para imprimir os números de 10 a 1, em ordem decrescente.",
      "metadata": {}
    },
    {
      "id": "55a75b3d",
      "cell_type": "code",
      "source": "for n in range (10, 0, -1):\n    print (n)\nprint(f\"Contagem concluida\")",
      "metadata": {
        "trusted": true
      },
      "outputs": [
        {
          "name": "stdout",
          "output_type": "stream",
          "text": "10\n9\n8\n7\n6\n5\n4\n3\n2\n1\nContagem concluida\n"
        }
      ],
      "execution_count": 2
    },
    {
      "id": "94b47c36",
      "cell_type": "markdown",
      "source": "### Q2.\n\nDado um número inteiro positivo informado pelo usuário, crie um programa em Python que utilize o comando for para calcular e exibir a soma dos números de 1 até o número informado. Ou seja, $1 + 2 + 3 + ... + n$\n\nExemplo de interação:\n```\nDigite um número: 5\nA soma dos números de 1 a 5 é 15\n```\n",
      "metadata": {}
    },
    {
      "id": "45b71596",
      "cell_type": "code",
      "source": "numero_limite = int(input(\"Digite um número inteiro positivo: \"))\nsoma = 0\nif numero_limite > 0:\n    for numero in range(1, numero_limite + 1):\n        soma += numero\n        print(f\"A soma de todos os números de 1 até {numero_limite} é {soma}.\")\nelse:\n    print(\"Por favor, digite um número inteiro positivo.\")",
      "metadata": {
        "trusted": true
      },
      "outputs": [
        {
          "output_type": "stream",
          "name": "stdin",
          "text": "Digite um número inteiro positivo:  3\n"
        },
        {
          "name": "stdout",
          "output_type": "stream",
          "text": "A soma de todos os números de 1 até 3 é 1.\nA soma de todos os números de 1 até 3 é 3.\nA soma de todos os números de 1 até 3 é 6.\n"
        }
      ],
      "execution_count": 5
    },
    {
      "id": "0411d170",
      "cell_type": "markdown",
      "source": "### Q3.\n\nEscreva um programa que lê 10 valores inteiros positivos do usuário e ao final imprime a média dos valores digitados com duas casas decimais.\n\n```\nDigite 10 números positivos:\n3\n2\n12\n14\n20\n42\n19\n0\n8\n1\nA média dos valores digitados é 12.10\n```",
      "metadata": {}
    },
    {
      "id": "3f72f358",
      "cell_type": "code",
      "source": "soma = 0\nfor i in range(10):\n    numero = int(input(f\"Digite o {i + 1}º número inteiro positivo: \"))\n    soma += numero\nmedia = soma / 10\nprint(f\"\\nA soma de todos os valores é: {soma}\")\nprint(f\"A média dos 10 valores digitados é: {media:.2f}\")\n",
      "metadata": {
        "trusted": true
      },
      "outputs": [
        {
          "output_type": "stream",
          "name": "stdin",
          "text": "Digite o 1º número inteiro positivo:  10\nDigite o 2º número inteiro positivo:  10\nDigite o 3º número inteiro positivo:  200\nDigite o 4º número inteiro positivo:  32\nDigite o 5º número inteiro positivo:  50\nDigite o 6º número inteiro positivo:  1\nDigite o 7º número inteiro positivo:  20\nDigite o 8º número inteiro positivo:  32\nDigite o 9º número inteiro positivo:  54\nDigite o 10º número inteiro positivo:  65\n"
        },
        {
          "name": "stdout",
          "output_type": "stream",
          "text": "\nA soma de todos os valores é: 474\nA média dos 10 valores digitados é: 47.40\n"
        }
      ],
      "execution_count": 1
    },
    {
      "id": "d62e27ff",
      "cell_type": "markdown",
      "source": "### Q4.\n\nVocê vai criar um sistema que registra os resultados dos jogos do Atlético MG ao longo de um campeonato. Seu sistema vai receber os resultados de todos os jogos do Galo, e deve calcular a pontuação do time sabendo que vitórias valem 3 pontos, empates 1 ponto e derrotas 0 pontos.\n\nEntrada: <br>\nA primeira linha de entrada é um inteiro N com a quantidade jogos do galo. Para cada jogo você deve ler 2 inteiros, o primeiro com a quantidade de gols do galo e o segundo com a quantidade de gols do time oponente. \n\nSaída: <br>\nApresente a soma de vitórias, empates e derrotas do galo, junto com o cálculo da pontuação total.\n\nEx:\n```\nEntrada:\n4\n2\n0\n1\n1\n0\n3\n1\n0\n\nSaída:\nVitórias: 2\nEmpates: 1\nDerrotas: 1\nPontuação: 7\n\n```\n\n\n",
      "metadata": {}
    },
    {
      "id": "88a22113-74c6-499a-8ff2-55606a1ef83f",
      "cell_type": "code",
      "source": "quantidade_jogos = int(input(\"Digite a quantidade de jogos do Galo: \"))\n\nvitorias = 0\nempates = 0\nderrotas = 0\npontuacao_total = 0\n\nfor i in range(quantidade_jogos):\n    print(f\"\\n--- Jogo {i + 1} ---\")\n    gols_galo = int(input(\"Digite a quantidade de gols do Galo: \"))\n    gols_oponente = int(input(\"Digite a quantidade de gols do oponente: \"))\n\n    if gols_galo > gols_oponente:\n        vitorias += 1\n        pontuacao_total += 3\n    elif gols_galo == gols_oponente:\n        # Empate\n        empates += 1\n        pontuacao_total += 1\n    else:\n        derrotas += 1\n\nprint(\"\\n--- Resultado Final ---\")\nprint(f\"Vitórias: {vitorias}\")\nprint(f\"Empates: {empates}\")\nprint(f\"Derrotas: {derrotas}\")\nprint(f\"Pontuação: {pontuacao_total}\")",
      "metadata": {
        "trusted": true
      },
      "outputs": [
        {
          "output_type": "stream",
          "name": "stdin",
          "text": "Digite a quantidade de jogos do Galo:  10\n"
        },
        {
          "name": "stdout",
          "output_type": "stream",
          "text": "\n--- Jogo 1 ---\n"
        },
        {
          "output_type": "stream",
          "name": "stdin",
          "text": "Digite a quantidade de gols do Galo:  2\nDigite a quantidade de gols do oponente:  3\n"
        },
        {
          "name": "stdout",
          "output_type": "stream",
          "text": "\n--- Jogo 2 ---\n"
        },
        {
          "output_type": "stream",
          "name": "stdin",
          "text": "Digite a quantidade de gols do Galo:  4\nDigite a quantidade de gols do oponente:  5\n"
        },
        {
          "name": "stdout",
          "output_type": "stream",
          "text": "\n--- Jogo 3 ---\n"
        },
        {
          "output_type": "stream",
          "name": "stdin",
          "text": "Digite a quantidade de gols do Galo:  6\nDigite a quantidade de gols do oponente:  7\n"
        },
        {
          "name": "stdout",
          "output_type": "stream",
          "text": "\n--- Jogo 4 ---\n"
        },
        {
          "output_type": "stream",
          "name": "stdin",
          "text": "Digite a quantidade de gols do Galo:  8\nDigite a quantidade de gols do oponente:  9\n"
        },
        {
          "name": "stdout",
          "output_type": "stream",
          "text": "\n--- Jogo 5 ---\n"
        },
        {
          "output_type": "stream",
          "name": "stdin",
          "text": "Digite a quantidade de gols do Galo:  5\nDigite a quantidade de gols do oponente:  10\n"
        },
        {
          "name": "stdout",
          "output_type": "stream",
          "text": "\n--- Jogo 6 ---\n"
        },
        {
          "output_type": "stream",
          "name": "stdin",
          "text": "Digite a quantidade de gols do Galo:  0\nDigite a quantidade de gols do oponente:  0\n"
        },
        {
          "name": "stdout",
          "output_type": "stream",
          "text": "\n--- Jogo 7 ---\n"
        },
        {
          "output_type": "stream",
          "name": "stdin",
          "text": "Digite a quantidade de gols do Galo:  5\nDigite a quantidade de gols do oponente:  5\n"
        },
        {
          "name": "stdout",
          "output_type": "stream",
          "text": "\n--- Jogo 8 ---\n"
        },
        {
          "output_type": "stream",
          "name": "stdin",
          "text": "Digite a quantidade de gols do Galo:  6\nDigite a quantidade de gols do oponente:  7\n"
        },
        {
          "name": "stdout",
          "output_type": "stream",
          "text": "\n--- Jogo 9 ---\n"
        },
        {
          "output_type": "stream",
          "name": "stdin",
          "text": "Digite a quantidade de gols do Galo:  1\nDigite a quantidade de gols do oponente:  2\n"
        },
        {
          "name": "stdout",
          "output_type": "stream",
          "text": "\n--- Jogo 10 ---\n"
        },
        {
          "output_type": "stream",
          "name": "stdin",
          "text": "Digite a quantidade de gols do Galo:  32\nDigite a quantidade de gols do oponente:  1\n"
        },
        {
          "name": "stdout",
          "output_type": "stream",
          "text": "\n--- Resultado Final ---\nVitórias: 1\nEmpates: 2\nDerrotas: 7\nPontuação: 5\n"
        }
      ],
      "execution_count": 2
    },
    {
      "id": "fc98604d",
      "cell_type": "markdown",
      "source": "### Q5.\n\nFaça um programa que lê dois inteiros N e M, e imprime na tela um campo de batalha naval. O tabuleiro deve possuir N linhas e M colunas. A primeira linha é composta por um espaço em branco e o cabeçalho das colunas, ou seja, valores de 1 a M. As N linhas seguintes iniciam com o cabeçalho da linha, ou seja, seu número, seguido de M caracteres \"/\" (barra) indicando uma possível posição jogável. \n\n```\nEntrada:\n5\n4\n\nSaída:\n  1 2 3 4 \n1 / / / / \n2 / / / / \n3 / / / / \n4 / / / / \n5 / / / / \n```\n\nPara esse exercício, precisamos lembrar que o comando print implicitamente adiciona uma quebra de linha ao final da impressão. Podemos interferir no final da impressão adicionando mais uma entrada ao print. No exemplo, finalizamos cada linha com um espaço em branco:\n```python\nprint(\"Texto qualquer\", end = \" \")\n```",
      "metadata": {}
    },
    {
      "id": "a60ef197",
      "cell_type": "code",
      "source": "N = int(input(\"Digite o número de linhas (N): \"))\nM = int(input(\"Digite o número de colunas (M): \"))\n\nprint(\" \", end=\" \")\nfor i in range(1, M + 1):\n    print(i, end=\" \")\nprint()\n\nfor i in range(1, N + 1):\n    print(i, end=\" \")\n    \n    for j in range(M):\n        print(\"/\", end=\" \")\n    print()",
      "metadata": {
        "trusted": true
      },
      "outputs": [
        {
          "output_type": "stream",
          "name": "stdin",
          "text": "Digite o número de linhas (N):  5\nDigite o número de colunas (M):  5\n"
        },
        {
          "name": "stdout",
          "output_type": "stream",
          "text": "  1 2 3 4 5 \n1 / / / / / \n2 / / / / / \n3 / / / / / \n4 / / / / / \n5 / / / / / \n"
        }
      ],
      "execution_count": 3
    },
    {
      "id": "4654dc0b",
      "cell_type": "markdown",
      "source": "---\n## Break e Continue",
      "metadata": {}
    },
    {
      "id": "24fe9d85",
      "cell_type": "markdown",
      "source": "### Q6.\n\nEscreva um programa que lê uma quantidade indefinida de valores e informa o maior e o menor valor digitados. A leitura é encerrada quando o usuário digitar o valor 0 (zero).\n\n```\nEntrada:\n12\n-1\n29\n11\n-5\n0\n\nSaída:\nMaior: 29\nMenor: -5\n```",
      "metadata": {}
    },
    {
      "id": "ee1c466a",
      "cell_type": "code",
      "source": "maior = None\nmenor = None\n\nprint(\"Digite os números. Digite 0 para encerrar a leitura.\")\n\nwhile True:\n    try:\n        valor = int(input(\"Digite um número: \"))\n        if valor == 0:\n            break\n\n        if maior is None and menor is None:\n            maior = valor\n            menor = valor\n        else:\n            if valor > maior:\n                maior = valor\n            if valor < menor:\n                menor = valor\n                \n    except ValueError:\n        print(\"Entrada inválida. Por favor, digite apenas números inteiros.\")\n\nif maior is not None and menor is not None:\n    print(\"\\n--- Resultado ---\")\n    print(f\"Maior: {maior}\")\n    print(f\"Menor: {menor}\")\nelse:\n    print(\"\\nNenhum número foi digitado, exceto o valor de encerramento (0).\")\n",
      "metadata": {
        "trusted": true
      },
      "outputs": [
        {
          "name": "stdout",
          "output_type": "stream",
          "text": "Digite os números. Digite 0 para encerrar a leitura.\n"
        },
        {
          "output_type": "stream",
          "name": "stdin",
          "text": "Digite um número:  2\nDigite um número:  3\nDigite um número:  0\n"
        },
        {
          "name": "stdout",
          "output_type": "stream",
          "text": "\n--- Resultado ---\nMaior: 3\nMenor: 2\n"
        }
      ],
      "execution_count": 4
    },
    {
      "id": "30d486f7",
      "cell_type": "markdown",
      "source": "### Q7.\n\nEscreva um programa que lê uma quantidade indefinida de valores e informa o **produto** dos valores positivos digitados. A leitura é encerrada quando o usuário digitar o valor 0 (zero).\n\n```\nEntrada:\n2\n-1\n1\n3\n-5\n0\n\nSaída:\nProduto: 6\n```",
      "metadata": {}
    },
    {
      "id": "2f1ac324",
      "cell_type": "code",
      "source": "produto = 1\n\nprint(\"Digite os números. Digite 0 para encerrar a leitura e ver o produto dos números positivos.\")\n\nwhile True:\n    try:\n        valor = int(input(\"Digite um número: \"))\n        \n        if valor == 0:\n            break\n\n        if valor > 0:\n            produto *= valor\n            \n    except ValueError:\n        print(\"Entrada inválida. Por favor, digite apenas números inteiros.\")\n\nprint(f\"\\nO produto dos números positivos digitados é: {produto}\")\n",
      "metadata": {
        "trusted": true
      },
      "outputs": [
        {
          "name": "stdout",
          "output_type": "stream",
          "text": "Digite os números. Digite 0 para encerrar a leitura e ver o produto dos números positivos.\n"
        },
        {
          "output_type": "stream",
          "name": "stdin",
          "text": "Digite um número:  10\nDigite um número:  5\nDigite um número:  4\nDigite um número:   -1\nDigite um número:  0\n"
        },
        {
          "name": "stdout",
          "output_type": "stream",
          "text": "\nO produto dos números positivos digitados é: 200\n"
        }
      ],
      "execution_count": 5
    },
    {
      "id": "e932f3cf",
      "cell_type": "markdown",
      "source": "### Q8.\n\nVamos fazer uma calculadora que aceita expressões aritméticas de qualquer tamanho até que o usuário digite a palavra \"Fim\". Sua calculadora executa apenas as operações \"+\", \"-\".\n\n```\nEntrada:\n5\n+\n8\n-\n3\n+\n2\nFim\n\nSaída:\n12\n```",
      "metadata": {}
    },
    {
      "id": "e835d870",
      "cell_type": "code",
      "source": "while True:\n    print(\"\\nDigite uma expressão (ex: 5 + 3 - 2)\")\n    expressao = input('Ou digite \"Fim\" para encerrar: ')\n\n    \n    if expressao.lower() == \"fim\":\n        break\n    \n\n    try:\n\n        if not all(c.isdigit() or c in ' +-' for c in expressao.replace(' ', '')):\n            print(\"Erro: A expressão contém caracteres inválidos. Use apenas números, '+' e '-'.\")\n            continue\n        \n\n        resultado = eval(expressao)\n        print(f\"Resultado: {resultado}\")\n    except (NameError, SyntaxError):\n  \n        print(\"Erro: Expressão inválida. Verifique a formatação e tente novamente.\")",
      "metadata": {
        "trusted": true
      },
      "outputs": [
        {
          "name": "stdout",
          "output_type": "stream",
          "text": "\nDigite uma expressão (ex: 5 + 3 - 2)\n"
        },
        {
          "output_type": "stream",
          "name": "stdin",
          "text": "Ou digite \"Fim\" para encerrar:  2+8*8\n"
        },
        {
          "name": "stdout",
          "output_type": "stream",
          "text": "Erro: A expressão contém caracteres inválidos. Use apenas números, '+' e '-'.\n\nDigite uma expressão (ex: 5 + 3 - 2)\n"
        }
      ],
      "execution_count": null
    },
    {
      "id": "1534f693-6f50-4124-be93-3ececb63ad99",
      "cell_type": "code",
      "source": "",
      "metadata": {
        "trusted": true
      },
      "outputs": [],
      "execution_count": null
    }
  ]
}