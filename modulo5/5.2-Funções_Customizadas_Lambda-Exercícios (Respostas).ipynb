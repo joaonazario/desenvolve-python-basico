{
  "metadata": {
    "kernelspec": {
      "name": "python",
      "display_name": "Python (Pyodide)",
      "language": "python"
    },
    "language_info": {
      "codemirror_mode": {
        "name": "python",
        "version": 3
      },
      "file_extension": ".py",
      "mimetype": "text/x-python",
      "name": "python",
      "nbconvert_exporter": "python",
      "pygments_lexer": "ipython3",
      "version": "3.8"
    }
  },
  "nbformat_minor": 5,
  "nbformat": 4,
  "cells": [
    {
      "id": "cbdff5a5",
      "cell_type": "markdown",
      "source": "# Módulo 5 - Funções\n\n## Aulas 5.2 - Funções Customizadas e 5.4 Funções ```lambda```",
      "metadata": {}
    },
    {
      "id": "28a3fee2",
      "cell_type": "markdown",
      "source": "### Q1.\n\n- Sabendo que o código a seguir calcula o fatorial de n, escreva uma função chamada ```fatorial()``` que recebe um inteiro ```n``` como parâmetro e retorna o resultado do fatorial de ```n```. \n- No programa principal, peça ao usuário o valor de ```n```, chame a sua função e imprima o retorno.\n\n```python\nfat = 1\nfor i in range(1, n+1):\n    fat *= i \n```",
      "metadata": {}
    },
    {
      "id": "d126b3a5",
      "cell_type": "code",
      "source": "def fatorial(n):\n    \"\"\"\n    Calcula o fatorial de um número inteiro n.\n    \"\"\"\n    fat = 1\n    for i in range(1, n + 1):\n        fat *= i\n    return fat\n",
      "metadata": {
        "trusted": true
      },
      "outputs": [],
      "execution_count": 3
    },
    {
      "id": "6e4fe64e",
      "cell_type": "code",
      "source": "try:\n    n = int(input(\"Digite um número para calcular o fatorial: \"))\n    \n    if n < 0:\n        print(\"Não é possível calcular o fatorial de um número negativo.\")\n    elif n == 0:\n        print(f\"O fatorial de 0 é: 1\")\n    else:\n        resultado_fatorial = fatorial(n)\n        print(f\"O fatorial de {n} é: {resultado_fatorial}\")\n        \nexcept ValueError:\n    print(\"Entrada inválida. Por favor, digite um número inteiro.\")\n\n",
      "metadata": {
        "trusted": true
      },
      "outputs": [
        {
          "output_type": "stream",
          "name": "stdin",
          "text": "Digite um número para calcular o fatorial:  85\n"
        },
        {
          "name": "stdout",
          "output_type": "stream",
          "text": "O fatorial de 85 é: 281710411438055027694947944226061159480056634330574206405101912752560026159795933451040286452340924018275123200000000000000000000\n"
        }
      ],
      "execution_count": 4
    },
    {
      "id": "c0a1f599",
      "cell_type": "markdown",
      "source": "### Q2.\n\n- Escreva uma função em Python chamada ```soma_quadrados``` que recebe dois números como parâmetros e retorna a soma dos seus quadrados. \n- No programa principal solicite ao usuário que insira dois números e utilize a função para exibir a soma dos quadrados.",
      "metadata": {}
    },
    {
      "id": "6dbddaad",
      "cell_type": "code",
      "source": "def soma_quadrados(x,y):\n    somaQuad = (x ** 2) + (y ** 2)\n    return somaQuad\n    \n\n",
      "metadata": {
        "trusted": true
      },
      "outputs": [],
      "execution_count": 1
    },
    {
      "id": "9175a7da",
      "cell_type": "code",
      "source": "n1 = int(input('Digite o primeiro numero'))\nn2 = int(input('Digite o primeiro numero'))\nsomaQuadrado = soma_quadrados(n1,n2)\nprint(f'A soma dos quadrados dos numeros informados é: {somaQuadrado}')\n",
      "metadata": {
        "trusted": true
      },
      "outputs": [
        {
          "output_type": "stream",
          "name": "stdin",
          "text": "Digite o primeiro numero 1\nDigite o primeiro numero 2\n"
        },
        {
          "name": "stdout",
          "output_type": "stream",
          "text": "A soma dos quadrados dos numeros informados é: 5\n"
        }
      ],
      "execution_count": 4
    },
    {
      "id": "6ba34ce0",
      "cell_type": "markdown",
      "source": "### Q3.\n\n- Crie uma função em Python chamada ```soma_digitos``` que recebe um número inteiro como parâmetro e retorna a soma dos seus dígitos. Por exemplo, para o número 123, a função deve retornar 6, $(1 + 2 + 3)$.\n    - O desafio aqui é separar os dígitos de um número inteiro usando operações aritméticas <br> <br>\n\n- No programa principal solicite ao usuário que insira um número e utilize a função ```soma_digitos``` para calcular e exibir a soma dos seus dígitos.",
      "metadata": {}
    },
    {
      "id": "34838ebf",
      "cell_type": "code",
      "source": "def soma_digitos(n):\n    soma = 0\n    numero_str = str(abs(numero))\n    for digito in numero_str:\n        soma += int(digito)\n    return soma",
      "metadata": {
        "trusted": true
      },
      "outputs": [],
      "execution_count": 19
    },
    {
      "id": "b80b7e50-fce8-4a8a-8f40-54ad9dd67b95",
      "cell_type": "code",
      "source": "numeros = int(input('Digite o numero com dois ou mais digitos'))\nresult = soma_digitos(numeros)\nprint(f'O resultado da soma dos numeros é: {result} ')",
      "metadata": {
        "trusted": true
      },
      "outputs": [
        {
          "output_type": "stream",
          "name": "stdin",
          "text": "Digite o numero com dois ou mais digitos 123\n"
        },
        {
          "name": "stdout",
          "output_type": "stream",
          "text": "O resultado da soma dos numeros é: 6 \n"
        }
      ],
      "execution_count": 20
    },
    {
      "id": "c318b159",
      "cell_type": "markdown",
      "source": "### Q4.\n\n- Crie a função ```inverteValor()``` que recebe um inteiro de qualquer tamanho e retorna esse valor invertido usando apenas operações aritméticas\n- Crie a função ```verificaInverso()``` que recebe o valor original e o valor invertido e retorna verdadeiro se ambos forem igualmente par ou igualmente ímpar. Retorne falso caso contrário.\n- No programa principal, peça um valor do usuário e imprima o retorno de ambas as funções.\n",
      "metadata": {}
    },
    {
      "id": "e4e47d1d",
      "cell_type": "code",
      "source": "def inverteValor(numero):\n\n    sinal = 1\n    if numero < 0:\n        sinal = -1\n        numero = abs(numero)\n\n    invertido = 0\n    while numero > 0:\n        \n        ultimo_digito = numero % 10\n        invertido = invertido * 10 + ultimo_digito\n        numero = numero // 10\n    \n    return invertido * sinal\n\ndef verificaInverso(original, invertido):\n    return (original % 2) == (invertido % 2)\n\n\n",
      "metadata": {
        "trusted": true
      },
      "outputs": [],
      "execution_count": 21
    },
    {
      "id": "a9514e56",
      "cell_type": "code",
      "source": "print(\"--- Inverter e Verificar Valor ---\")\nvalor_original = int(input(\"Digite um número inteiro: \"))\n\nvalor_invertido = inverteValor(valor_original)\n\nparidade_igual = verificaInverso(valor_original, valor_invertido)\n\nprint(f\"\\nValor original: {valor_original}\")\nprint(f\"Valor invertido: {valor_invertido}\")\n\nif paridade_igual:\n    print(\"Resultado da verificação: Verdadeiro (Paridade igual)\")\nelse:\n    print(\"Resultado da verificação: Falso (Paridade diferente)\")\n\n",
      "metadata": {
        "trusted": true
      },
      "outputs": [
        {
          "name": "stdout",
          "output_type": "stream",
          "text": "--- Inverter e Verificar Valor ---\n"
        },
        {
          "output_type": "stream",
          "name": "stdin",
          "text": "Digite um número inteiro:  54321\n"
        },
        {
          "name": "stdout",
          "output_type": "stream",
          "text": "\nValor original: 54321\nValor invertido: 12345\nResultado da verificação: Verdadeiro (Paridade igual)\n"
        }
      ],
      "execution_count": 22
    },
    {
      "id": "329be966",
      "cell_type": "markdown",
      "source": "### Q5.\n\nVocê está desenvolvendo um programa para auxiliar em cálculos de geometria básica. Crie as seguintes funções:\n- A função ```calcula_perimetro_triangulo()``` que recebe três inteiros correspondentes aos lados de um triângulo e retorna o perímetro do triângulo, ou seja, a soma dos seus lados.\n- A função ```calcula_perimetro_circulo()``` que recebe um inteiro referente ao raio do círculo e retorna o perímetro do círculo, dado por $2 \\pi r$. Use a constante $\\pi$ da biblioteca ```math```.\n- A função ```calcula_perimetro_retangulo()``` que possui um parâmetro obrigatório ```lado1``` e um opcional ```lado2```, ambos inteiros. Se o valor opcional não for fornecido, significa que se trata de um quadrado. Sua função deve calcular e retornar o perímetro do retângulo, ou seja, a soma de seus lados. \n    - Para o quadrado, é dado por $4 \\times lado1$\n    - Para o retângulo é dado por $2 \\times lado1 + 2 \\times lado2$\n    \n- No programa principal apresente um menu com as opções disponíveis do seu sistema e uma quarta opção ```Sair```. Solicite ao usuário a opção desejada, solicite as entradas correspondentes à opção escolhida, invoque a respective função e apresente o seu retorno. Seu programa deve retornar ao menu até que o usuário escolha a opção ```Sair```\n\nExemplo de interação:\n```\n1 - Calcular perímetro triângulo\n2 - Calcular perímetro círculo\n3 - Calcular perímetro retângulo\n4 - Sair\n\nOpção: 1\nDigite os três lados do triângulo:\n3\n4\n5\nO perímetro é: 12\n\n1 - Calcular perímetro triângulo\n2 - Calcular perímetro círculo\n3 - Calcular perímetro retângulo\n4 - Sair\n\nOpção: 3\nInforme os dois lados do retângulo. Se for um quadrado, digite 0 para o segundo valor:\n5\n0\nO perímetro é: 20\n\n1 - Calcular perímetro triângulo\n2 - Calcular perímetro círculo\n3 - Calcular perímetro retângulo\n4 - Sair\n\nOpção: 4\n```",
      "metadata": {}
    },
    {
      "id": "0793d328",
      "cell_type": "code",
      "source": "import math\n\ndef calcula_perimetro_triangulo(lado1, lado2, lado3):\n    return lado1 + lado2 + lado3\n\ndef calcula_perimetro_circulo(raio):\n    return 2 * math.pi * raio\n\ndef calcula_perimetro_retangulo(lado1, lado2=None):\n    if lado2 is None:\n        # Se o segundo lado não for fornecido, é um quadrado\n        return 4 * lado1\n    else:\n        # Se os dois lados forem fornecidos, é um retângulo\n        return 2 * (lado1 + lado2)\n",
      "metadata": {
        "trusted": true
      },
      "outputs": [],
      "execution_count": 23
    },
    {
      "id": "36269c71",
      "cell_type": "code",
      "source": "while True:\n    print(\"\\n--- Calculadora de Perímetros ---\")\n    print(\"1. Triângulo\")\n    print(\"2. Círculo\")\n    print(\"3. Retângulo/Quadrado\")\n    print(\"4. Sair\")\n    \n    try:\n        opcao = int(input(\"\\nEscolha uma opção: \"))\n        \n        if opcao == 1:\n            print(\"--- Perímetro do Triângulo ---\")\n            lado1 = int(input(\"Digite o lado 1: \"))\n            lado2 = int(input(\"Digite o lado 2: \"))\n            lado3 = int(input(\"Digite o lado 3: \"))\n            perimetro = calcula_perimetro_triangulo(lado1, lado2, lado3)\n            print(f\"O perímetro do triângulo é: {perimetro:.2f}\")\n        elif opcao == 2:\n            print(\"--- Perímetro do Círculo ---\")\n            raio = int(input(\"Digite o raio: \"))\n            perimetro = calcula_perimetro_circulo(raio)\n            print(f\"O perímetro do círculo é: {perimetro:.2f}\")\n        elif opcao == 3:\n            print(\"--- Perímetro do Retângulo/Quadrado ---\")\n            lado1 = int(input(\"Digite o lado 1: \"))\n            lado2_input = input(\"Digite o lado 2 (opcional, deixe em branco para um quadrado): \")\n            if lado2_input.strip() == \"\":\n                perimetro = calcula_perimetro_retangulo(lado1)\n            else:\n                lado2 = int(lado2_input)\n                perimetro = calcula_perimetro_retangulo(lado1, lado2)\n            print(f\"O perímetro é: {perimetro:.2f}\")\n        elif opcao == 4:\n            print(\"Saindo do programa. Até mais!\")\n            break\n        else:\n            print(\"Opção inválida. Por favor, escolha uma opção entre 1 e 4.\")\n    \n    except ValueError:\n        print(\"Entrada inválida. Por favor, digite um número.\")",
      "metadata": {
        "trusted": true
      },
      "outputs": [
        {
          "name": "stdout",
          "output_type": "stream",
          "text": "\n--- Calculadora de Perímetros ---\n1. Triângulo\n2. Círculo\n3. Retângulo/Quadrado\n4. Sair\n"
        },
        {
          "ename": "<class 'TypeError'>",
          "evalue": "int() argument must be a string, a bytes-like object or a real number, not 'NoneType'",
          "traceback": [
            "\u001b[0;31m---------------------------------------------------------------------------\u001b[0m",
            "\u001b[0;31mTypeError\u001b[0m                                 Traceback (most recent call last)",
            "Cell \u001b[0;32mIn[1], line 9\u001b[0m\n\u001b[1;32m      6\u001b[0m \u001b[38;5;28mprint\u001b[39m(\u001b[38;5;124m\"\u001b[39m\u001b[38;5;124m4. Sair\u001b[39m\u001b[38;5;124m\"\u001b[39m)\n\u001b[1;32m      8\u001b[0m \u001b[38;5;28;01mtry\u001b[39;00m:\n\u001b[0;32m----> 9\u001b[0m     opcao \u001b[38;5;241m=\u001b[39m \u001b[38;5;28;43mint\u001b[39;49m\u001b[43m(\u001b[49m\u001b[38;5;28;43minput\u001b[39;49m\u001b[43m(\u001b[49m\u001b[38;5;124;43m\"\u001b[39;49m\u001b[38;5;130;43;01m\\n\u001b[39;49;00m\u001b[38;5;124;43mEscolha uma opção: \u001b[39;49m\u001b[38;5;124;43m\"\u001b[39;49m\u001b[43m)\u001b[49m\u001b[43m)\u001b[49m\n\u001b[1;32m     11\u001b[0m     \u001b[38;5;28;01mif\u001b[39;00m opcao \u001b[38;5;241m==\u001b[39m \u001b[38;5;241m1\u001b[39m:\n\u001b[1;32m     12\u001b[0m         \u001b[38;5;28mprint\u001b[39m(\u001b[38;5;124m\"\u001b[39m\u001b[38;5;124m--- Perímetro do Triângulo ---\u001b[39m\u001b[38;5;124m\"\u001b[39m)\n",
            "\u001b[0;31mTypeError\u001b[0m: int() argument must be a string, a bytes-like object or a real number, not 'NoneType'"
          ],
          "output_type": "error"
        }
      ],
      "execution_count": 1
    },
    {
      "id": "3016bcc7",
      "cell_type": "markdown",
      "source": "## Funções ```lambda```",
      "metadata": {}
    },
    {
      "id": "f9cdb8dd",
      "cell_type": "markdown",
      "source": "### Q6.\n\nCrie uma função lambda para verificar se um número é par ou ímpar. Em seguida, solicite ao usuário um número indefinidos de valores (até que o usuário digite 0). Para cada valor de entrada, informe se é par ou ímpar.\n\nExemplo de interação:\n```\nDigite os valores que deseja verificar a paridade (digite 0 para finalizar a entrada de dados):\n3\nímpar\n8\npar\n12\npar\n5\nímpar\n7ímpar\n```",
      "metadata": {}
    },
    {
      "id": "ee3f68ca",
      "cell_type": "code",
      "source": "def main():\n    \"\"\"\n    Programa principal para verificar a paridade de números.\n    \"\"\"\n    # Função lambda para verificar a paridade\n    verifica_paridade = lambda num: \"par\" if num % 2 == 0 else \"ímpar\"\n    \n    print(\"Digite os valores que deseja verificar a paridade (digite 0 para finalizar a entrada de dados):\")\n    \n    while True:\n        try:\n            entrada = int(input())\n            \n            if entrada == 0:\n                print(\"Entrada de dados finalizada.\")\n                break\n            \n            # Chama a função lambda para verificar e imprimir o resultado\n            print(verifica_paridade(entrada))\n        except ValueError:\n            print(\"Entrada inválida. Por favor, digite um número inteiro.\")\n\nif __name__ == \"__main__\":\n    main()",
      "metadata": {
        "trusted": true
      },
      "outputs": [
        {
          "name": "stdout",
          "output_type": "stream",
          "text": "Digite os valores que deseja verificar a paridade (digite 0 para finalizar a entrada de dados):\n"
        },
        {
          "output_type": "stream",
          "name": "stdin",
          "text": " 5 6\n"
        },
        {
          "name": "stdout",
          "output_type": "stream",
          "text": "Entrada inválida. Por favor, digite um número inteiro.\n"
        },
        {
          "output_type": "stream",
          "name": "stdin",
          "text": " 4\n"
        },
        {
          "name": "stdout",
          "output_type": "stream",
          "text": "par\n"
        },
        {
          "output_type": "stream",
          "name": "stdin",
          "text": " 5\n"
        },
        {
          "name": "stdout",
          "output_type": "stream",
          "text": "ímpar\n"
        },
        {
          "output_type": "stream",
          "name": "stdin",
          "text": " 66\n"
        },
        {
          "name": "stdout",
          "output_type": "stream",
          "text": "par\n"
        },
        {
          "output_type": "stream",
          "name": "stdin",
          "text": " 5\n"
        },
        {
          "name": "stdout",
          "output_type": "stream",
          "text": "ímpar\n"
        },
        {
          "output_type": "stream",
          "name": "stdin",
          "text": " 56\n"
        },
        {
          "name": "stdout",
          "output_type": "stream",
          "text": "par\n"
        },
        {
          "output_type": "stream",
          "name": "stdin",
          "text": " 0\n"
        },
        {
          "name": "stdout",
          "output_type": "stream",
          "text": "Entrada de dados finalizada.\n"
        }
      ],
      "execution_count": 2
    },
    {
      "id": "1f05f1cc-caed-4753-a203-769bda90a6d8",
      "cell_type": "markdown",
      "source": "### Q7.\n\nEscreva um programa que pergunte ao usuário qual operação ele deseja: maior ou menor.\nEm seguida leia uma quantidade indefinida de valores do usuário, até que o usuário digite o valor zero.\nApresente ao final o maior ou menor dos valores digitados de acordo com a escolha do usuário.\n\n**Sua solução deve incluir pelo menos uma função ```lambda```** \n\nExemplo de interação:\n```\nOpções: (1) maior ou (2) menor?\nOpção: 1\n\nDigite os valores de entrada. Digite 0 para finalizar a entrada de valores.\n4\n12\n15\n1\n0\n\nO maior valor é: 15\n```",
      "metadata": {
        "jupyter": {
          "source_hidden": true
        }
      }
    },
    {
      "id": "66c51b96-7d21-4d42-97c2-7900bd3765af",
      "cell_type": "code",
      "source": "def encontrar_valor(operacao, nome_operacao):\n    \"\"\"\n    Função para encontrar o maior ou menor valor de uma sequência.\n    Recebe a operação (maior ou menor) e o nome da operação como parâmetros.\n    \"\"\"\n    try:\n        entrada_raw = input(\"Digite os valores separados por espaço (ou 0 para finalizar): \")\n        valores_str = entrada_raw.split()\n        \n        # Converte a lista de strings para uma lista de inteiros\n        valores = [int(v) for v in valores_str if v != '0']\n\n        if not valores:\n            print(\"Nenhum valor foi digitado.\")\n            return\n\n        valor_referencia = valores[0]\n        for valor in valores[1:]:\n            valor_referencia = operacao(valor_referencia, valor)\n            \n        print(f\"\\nO {nome_operacao} valor é: {valor_referencia}\")\n\n    except ValueError:\n        print(\"Entrada inválida. Por favor, digite apenas números inteiros.\")\n\nprint(\"Opções: (1) maior ou (2) menor?\")\ntry:\n    escolha = int(input(\"Opção: \"))\n\n    if escolha == 1:\n        operacao = lambda x, y: x if x > y else y\n        nome_operacao = \"maior\"\n        encontrar_valor(operacao, nome_operacao)\n    elif escolha == 2:\n        operacao = lambda x, y: x if x < y else y\n        nome_operacao = \"menor\"\n        encontrar_valor(operacao, nome_operacao)\n    else:\n        print(\"Opção inválida. Por favor, escolha 1 ou 2.\")\n        \nexcept ValueError:\n    print(\"Opção inválida. Por favor, digite 1 ou 2.\")",
      "metadata": {
        "trusted": true
      },
      "outputs": [
        {
          "name": "stdout",
          "output_type": "stream",
          "text": "Opções: (1) maior ou (2) menor?\n"
        },
        {
          "output_type": "stream",
          "name": "stdin",
          "text": "Opção:  1\nDigite os valores separados por espaço (ou 0 para finalizar):  0\n"
        },
        {
          "name": "stdout",
          "output_type": "stream",
          "text": "Nenhum valor foi digitado.\n"
        }
      ],
      "execution_count": 1
    },
    {
      "id": "0904055f-2323-4de5-a31e-ba1cbf5e1001",
      "cell_type": "code",
      "source": "",
      "metadata": {
        "trusted": true
      },
      "outputs": [],
      "execution_count": null
    }
  ]
}