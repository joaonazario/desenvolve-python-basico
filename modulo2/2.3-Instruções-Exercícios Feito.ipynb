{
  "metadata": {
    "kernelspec": {
      "name": "xpython",
      "display_name": "Python 3.13 (XPython)",
      "language": "python"
    },
    "language_info": {
      "file_extension": ".py",
      "mimetype": "text/x-python",
      "name": "python",
      "version": "3.13.1"
    },
    "colab": {
      "provenance": []
    }
  },
  "nbformat_minor": 4,
  "nbformat": 4,
  "cells": [
    {
      "cell_type": "markdown",
      "source": "# Módulo 2\n\n## 2.3 Instruções e Expressões\n\n### Q1\n\nFaça um programa que armazene o valor de 20 reais de salário por hora de um trabalhador, e o número de 40 horas trabalhadas na semana. Com essas informações, calcule e imprima:\n- Salário semanal bruto\n- Valor descontado por semana INSS (10% do bruto)\n- Valor descontado por semana pelo sindicato (5% do bruto)\n- Salário semanal líquido (Bruto - Descontos)",
      "metadata": {
        "id": "1pCTdOHonv5f"
      }
    },
    {
      "cell_type": "code",
      "source": "salarioHora = 20\nhorasSemana = 40\nsalarioSemanal = salarioHora * horasSemana\nprint(f\"O salário semanal bruto é: {salarioSemanal}\")\n\ndescInss = salarioSemanal / 100 * 10\nprint(f\"O salário com o desconto do INSS é: {descInss}\")\n\ndescSemanal = salarioSemanal / 100 * 5\nprint(f\"O salário com o desconto do INSS é: {descSemanal}\")\n\nsalarioLiquido = salarioSemanal - descInss - descSemanal\nprint(f\"O salario semanal brito com descontos é {salarioLiquido}\")",
      "metadata": {
        "id": "hVbX0I97nj6M",
        "trusted": true
      },
      "outputs": [
        {
          "name": "stdout",
          "output_type": "stream",
          "text": "O salário semanal bruto é: 800\nO salário com o desconto do INSS é: 80.0\nO salário com o desconto do INSS é: 40.0\nO salario semanal brito com descontos é 680.0\n"
        }
      ],
      "execution_count": 9
    },
    {
      "cell_type": "markdown",
      "source": "### Q2\n\nAltere o programa anterior para a partir dos valores de horas trabalhadas por semana e salário por hora, calcular **em somente duas instruções**:\n- Salário semanal bruto\n- Salário semanal líquido com todos os descontos. Para a segunda instrução, realize todos os cálculos aritméticos em uma expressão composta.\n",
      "metadata": {
        "id": "pIxKX9J2oGZ1"
      }
    },
    {
      "cell_type": "code",
      "source": "salarioSemanal = 40 * 20\nsalarioSemanalLiquido = salarioSemanal - (salarioSemanal / 100 * 10) - (salarioSemanal / 100 * 5)\nprint(f\"O salario semenal liquido é {salarioSemanalLiquido}\")",
      "metadata": {
        "id": "pAHw9Xf9oGoi",
        "trusted": true
      },
      "outputs": [
        {
          "name": "stdout",
          "output_type": "stream",
          "text": "O salario semenal liquido é 680.0\n"
        }
      ],
      "execution_count": 11
    },
    {
      "cell_type": "markdown",
      "source": "### Q3\n\nVocê está desenvolvendo um software de conversão de moeda e precisa calcular o valor equivalente em yuan chinês a partir de uma quantia em real. A taxa de câmbio é de 0.69 BRL (real) para 1 CNY (yuan). Escreva um programa que define em uma variável uma quantia em reais (BRL) e calcula o valor equivalente em yuan (CNY). Imprima o resultado.",
      "metadata": {
        "id": "m8tlHRuWpBOB"
      }
    },
    {
      "cell_type": "code",
      "source": "calcMoeda = 0.69 * 1\nprint(f\"O valor de 300 reais em Yuan é {(calcMoeda*300):.2f}\")",
      "metadata": {
        "id": "2bPw7uF6oeL9",
        "trusted": true
      },
      "outputs": [
        {
          "name": "stdout",
          "output_type": "stream",
          "text": "O valor de 300 reais em Yuan é 207.00\n"
        }
      ],
      "execution_count": 21
    },
    {
      "cell_type": "markdown",
      "source": "### Q4\n\nVocê é um treinador de corrida e deseja calcular a velocidade média que um atleta precisa manter para completar a Maratona Internacional de São Silvestre, que tem uma distância total de 42.195 km. A fórmula para calcular a velocidade média ($v\\_media$) é dada por $v\\_media = \\frac{distancia}{tempo}$ . Escreva um programa em Python para calcular a velocidade média necessária para completar a maratona em 3 horas.\n\n**Calcule e imprima o resultado em metros/segundo**, ou seja, converta a distância de quilômetros para metros ($metro = \\frac{km}{1000}$) e a velocidade de horas para segundos $(segundo = \\frac{hora}{3600})$.",
      "metadata": {
        "id": "-Na3ltDCp74A"
      }
    },
    {
      "cell_type": "code",
      "source": "distancia_km = 42.195\ntempo_hora = 3\nv_media = distancia_km / tempo_hora\nprint(f\"Avelocidade media para concluir a prova é: {v_media} km por hora\")",
      "metadata": {
        "id": "Bn6l8kcSrE4L",
        "trusted": true
      },
      "outputs": [
        {
          "name": "stdout",
          "output_type": "stream",
          "text": "Avelocidade media para concluir a prova é: 14.065 km por hora\n"
        }
      ],
      "execution_count": 26
    },
    {
      "cell_type": "code",
      "source": "km_metros = distancia_km / 1000\ntempo_segundos = tempo_hora / 3600\nv_media = km_metros / tempo_hora\nprint(f\"A velocidade em metros por segundo é: {v_media} metros por segundo\")\n",
      "metadata": {
        "trusted": true
      },
      "outputs": [
        {
          "name": "stdout",
          "output_type": "stream",
          "text": "A velocidade em metros por segundo é: 0.014065000000000001 metros por segundo\n"
        }
      ],
      "execution_count": 30
    },
    {
      "cell_type": "code",
      "source": "",
      "metadata": {
        "trusted": true
      },
      "outputs": [],
      "execution_count": null
    }
  ]
}