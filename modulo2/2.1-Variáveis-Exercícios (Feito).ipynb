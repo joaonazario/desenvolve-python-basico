{
  "metadata": {
    "kernelspec": {
      "name": "xpython",
      "display_name": "Python 3.13 (XPython)",
      "language": "python"
    },
    "language_info": {
      "file_extension": ".py",
      "mimetype": "text/x-python",
      "name": "python",
      "version": "3.13.1"
    }
  },
  "nbformat_minor": 5,
  "nbformat": 4,
  "cells": [
    {
      "id": "a9d28135",
      "cell_type": "markdown",
      "source": "# Módulo 2\n## 2.1 Variáveis\n\n### Q1. \nSelecione todos os itens a seguir que contém nomes válidos de variáveis. Lembre-se que alguns nomes com estrutura válida são palavras reservadas da linguagem e portanto não podem nomear variáveis.\n\n    a) nome_completo \n    b) quantidade@produtos\t\n    c) idade\t\n    d) soma idades \n    e) MediaNotas\n    f) _tipo\n    g) 2total\n    h) lambda",
      "metadata": {}
    },
    {
      "id": "23ab7106",
      "cell_type": "code",
      "source": "# Preencha o print com as alternativas corretas\n# separadas por espaços em branco.\n# Ex: print(\"a b c\")\nprint(\"a c e f\")",
      "metadata": {},
      "outputs": [],
      "execution_count": null
    },
    {
      "id": "f56d2b28",
      "cell_type": "markdown",
      "source": "---\n### Q2. \nDados os scripts a seguir, faça: \n- Para os scripts corretos escreva o resultado impresso ao final da execução\n- Para os incorretos descreva todos os erros identificados apontando a linha onde cada erro acontece.\n",
      "metadata": {}
    },
    {
      "id": "a2f2461b",
      "cell_type": "markdown",
      "source": "```python\n# Script 1\nx = 10\ny = x + 2\nprint(y - 5)\n```",
      "metadata": {}
    },
    {
      "id": "4371ac7b",
      "cell_type": "code",
      "source": "# preencha o print com sua resposta\nprint(\"7\")",
      "metadata": {},
      "outputs": [],
      "execution_count": null
    },
    {
      "id": "b38baa9c",
      "cell_type": "markdown",
      "source": "```python\n# Script 2\nsoma = n1 + n2\nprint(soma) \n```",
      "metadata": {}
    },
    {
      "id": "82b5064b",
      "cell_type": "code",
      "source": "# preencha o print com sua resposta\nprint(\"NameError                                 Traceback (most recent call last)\nCell In[2], line 1\n----> 1 soma = n1 + n2\n      2 print(soma)\n\nNameError: name 'n1' is not defined \")",
      "metadata": {},
      "outputs": [],
      "execution_count": null
    },
    {
      "id": "c2f3ab7a",
      "cell_type": "markdown",
      "source": "```python\n# Script 3\na = 10\na = a + 1\nprint(a)\n```",
      "metadata": {}
    },
    {
      "id": "7b9db0c7",
      "cell_type": "code",
      "source": "# preencha o print com sua resposta\nprint(\"11\")",
      "metadata": {},
      "outputs": [],
      "execution_count": null
    },
    {
      "id": "dd40d2c9",
      "cell_type": "markdown",
      "source": "```python\n# Script 4\nsaldo da conta = 1500\n0.1 = juros\nprint(saldo da conta * juros)\n```",
      "metadata": {}
    },
    {
      "id": "2dec64ac",
      "cell_type": "code",
      "source": "# preencha o print com sua resposta\nprint(\"Cell In[4], line 1\n    saldo da conta = 1500\n          ^\nSyntaxError: invalid syntax\")",
      "metadata": {},
      "outputs": [],
      "execution_count": null
    },
    {
      "id": "9ba1f2a8",
      "cell_type": "markdown",
      "source": "---\n### Q3.\nDeclare três variáveis, `num1`, `num2` e `num3`, com valores inteiros numéricos de sua escolha. Calcule e imprima a média desses três números. Utilize a fórmula: `(num1 + num2 + num3) / 3`.",
      "metadata": {}
    },
    {
      "id": "e1963351",
      "cell_type": "code",
      "source": "num1 = 10\nnum2 = 15\nnum3 = 20\nmedia = (num1 + num2 + num3) / 3\nprint(f\"A media dos 03 valores é: {media}\")\n",
      "metadata": {
        "trusted": true
      },
      "outputs": [
        {
          "name": "stdout",
          "output_type": "stream",
          "text": "A media dos 03 valores é: 15.0\n"
        }
      ],
      "execution_count": 7
    },
    {
      "id": "7940ba20",
      "cell_type": "markdown",
      "source": "--- \n### Q4.\nEscreva um script python que:\n- Armazene em uma variável uma velocidade de 90 km/h\n- Calcule e armazene o equivalente em m/s\n    - Divida o valor original por 3.6 para obter o resultado em m/s. Em python a sintaxe da divisão e atribuição é c = a / b \n- Imprima na tela a velocidade o resultado m/s\n",
      "metadata": {}
    },
    {
      "id": "dd4fe7ae",
      "cell_type": "code",
      "source": "velocidade = 90\nm_s = 90 / 3.6\nprint (f\"O equivalente em MS é {m_s}\")",
      "metadata": {
        "trusted": true
      },
      "outputs": [
        {
          "name": "stdout",
          "output_type": "stream",
          "text": "O equivalente em MS é 25.0\n"
        }
      ],
      "execution_count": 10
    },
    {
      "id": "cc714a42",
      "cell_type": "markdown",
      "source": "---\n### Q5.\nEscreva um script python que:\n- Armazene o seu nome em uma variável\n    - Dica: para armazenar textos em variáveis basta colocar a palavra desejada entre aspas, ex: \"Camila\", à direita do operador de atribuição.\n- Imprima o texto \"Meu nome é:\"\n- Imprima a variável com seu nome\n",
      "metadata": {}
    },
    {
      "id": "10a6a794",
      "cell_type": "code",
      "source": "meu_nome = \"João\"\nprint(f\"Meu nome é: {meu_nome}\")\nprint(meu_nome)",
      "metadata": {
        "trusted": true
      },
      "outputs": [
        {
          "name": "stdout",
          "output_type": "stream",
          "text": "Meu nome é: João\nJoão\n"
        }
      ],
      "execution_count": 13
    },
    {
      "id": "47781ab5-7d32-4cc9-b3ef-a41a910d28ec",
      "cell_type": "code",
      "source": "",
      "metadata": {
        "trusted": true
      },
      "outputs": [],
      "execution_count": null
    }
  ]
}