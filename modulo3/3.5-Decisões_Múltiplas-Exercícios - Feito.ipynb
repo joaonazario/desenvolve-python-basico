{
  "metadata": {
    "kernelspec": {
      "name": "python",
      "display_name": "Python (Pyodide)",
      "language": "python"
    },
    "language_info": {
      "codemirror_mode": {
        "name": "python",
        "version": 3
      },
      "file_extension": ".py",
      "mimetype": "text/x-python",
      "name": "python",
      "nbconvert_exporter": "python",
      "pygments_lexer": "ipython3",
      "version": "3.8"
    }
  },
  "nbformat_minor": 5,
  "nbformat": 4,
  "cells": [
    {
      "id": "559687a1",
      "cell_type": "markdown",
      "source": "# Módulo 3 - Condicionais\n\n## 3.5 - Decisões Múltiplas",
      "metadata": {}
    },
    {
      "id": "42f823b3",
      "cell_type": "markdown",
      "source": "### Q1.\n\nVamos fazer uma calculadora! Escreva um programa que solicita 3 entradas: o primeiro operando (float), o operador (caracter) e o segundo operando (float). Seu programa deve imprimir o resultado da operação solicitada, entre soma (+), subtração (-), divisão (/), multiplicação (\\*) ou potência (\\*\\*). Seu programa também deve imprimir uma mensagem de erro se a operação solicitada não estiver dentre as opções disponíveis.\n\nSeguem alguns exemplos de interação com seu código no terminal. \n\n\n```\nDigite o primeiro operando: 5.2\nDigite o operador (+, -, /, *, **): *\nDigite o segundo operando` 3\nResultado: 5.2 * 3.0 = 15.6\n```\n\n```\nDigite o primeiro operando: 8\nDigite o operador (+, -, /, *, **): **\nDigite o segundo operando: 2\nResultado: 8.0 * 2.0 = 64.0\n```\n\n```\nDigite o primeiro operando: 7\nDigite o operador (+, -, /, *, **): %\nDigite o segundo operando: 3.4\nErro! Operação inválida. \n```\n\n```\nDigite o primeiro operando: 10\nDigite o operador (+, -, /, *, **): /\nDigite o segundo operando: 2.5\nResultado: 10.0 / 2.5 = 4.0\n```\n\n",
      "metadata": {
        "jp-MarkdownHeadingCollapsed": true
      }
    },
    {
      "id": "c5b8cd4d",
      "cell_type": "code",
      "source": "print(f\"..:: Calculadora ::..\")\ncalc = input(f\"Digite qual tipo de calculo você deseja realizar (+ , - , / , * , **) \")\nn1 = float(input(f\"Digite o primeiro operando: \"))\nn2 = float(input(f\"Digite o o segundo operando operando: \"))\nif calc == '+':\n    resultado = n1 + n2\nelif calc == '-':\n    resultado = n1 - n2\nelif calc == '/':\n    resultado = n1 / n2\nelif calc == '*':\n    resultado = n1 * n2\nelif calc == '**':\n    resultado = n1 ** n2\nelse:\n    print (f\"Digite digite uma operação valida\")\nprint (f\"O resultado é: {resultado}\")",
      "metadata": {
        "trusted": true
      },
      "outputs": [
        {
          "name": "stdout",
          "output_type": "stream",
          "text": "..:: Calculadora ::..\n"
        },
        {
          "ename": "<class 'TypeError'>",
          "evalue": "float() argument must be a string or a real number, not 'NoneType'",
          "traceback": [
            "\u001b[0;31m---------------------------------------------------------------------------\u001b[0m",
            "\u001b[0;31mTypeError\u001b[0m                                 Traceback (most recent call last)",
            "Cell \u001b[0;32mIn[12], line 3\u001b[0m\n\u001b[1;32m      1\u001b[0m \u001b[38;5;28mprint\u001b[39m(\u001b[38;5;124mf\u001b[39m\u001b[38;5;124m\"\u001b[39m\u001b[38;5;124m..:: Calculadora ::..\u001b[39m\u001b[38;5;124m\"\u001b[39m)\n\u001b[1;32m      2\u001b[0m calc \u001b[38;5;241m=\u001b[39m \u001b[38;5;28minput\u001b[39m(\u001b[38;5;124mf\u001b[39m\u001b[38;5;124m\"\u001b[39m\u001b[38;5;124mDigite qual tipo de calculo você deseja realizar (+ , - , / , * , **) \u001b[39m\u001b[38;5;124m\"\u001b[39m)\n\u001b[0;32m----> 3\u001b[0m n1 \u001b[38;5;241m=\u001b[39m \u001b[38;5;28;43mfloat\u001b[39;49m\u001b[43m(\u001b[49m\u001b[38;5;28;43minput\u001b[39;49m\u001b[43m(\u001b[49m\u001b[38;5;124;43mf\u001b[39;49m\u001b[38;5;124;43m\"\u001b[39;49m\u001b[38;5;124;43mDigite o primeiro operando: \u001b[39;49m\u001b[38;5;124;43m\"\u001b[39;49m\u001b[43m)\u001b[49m\u001b[43m)\u001b[49m\n\u001b[1;32m      4\u001b[0m n2 \u001b[38;5;241m=\u001b[39m \u001b[38;5;28mfloat\u001b[39m(\u001b[38;5;28minput\u001b[39m(\u001b[38;5;124mf\u001b[39m\u001b[38;5;124m\"\u001b[39m\u001b[38;5;124mDigite o o segundo operando operando: \u001b[39m\u001b[38;5;124m\"\u001b[39m))\n\u001b[1;32m      5\u001b[0m \u001b[38;5;28;01mif\u001b[39;00m calc \u001b[38;5;241m==\u001b[39m \u001b[38;5;124m'\u001b[39m\u001b[38;5;124m+\u001b[39m\u001b[38;5;124m'\u001b[39m:\n",
            "\u001b[0;31mTypeError\u001b[0m: float() argument must be a string or a real number, not 'NoneType'"
          ],
          "output_type": "error"
        }
      ],
      "execution_count": 12
    },
    {
      "id": "d135df39",
      "cell_type": "markdown",
      "source": "### Q2.\n\nEscreva um programa que leia os comprimentos dos 3 lados de um triângulo e diga se o triângulo é equilátero, isóceles ou escaleno. Regras:\n- Isóceles: Quaisquer dois lados com o mesmo comprimento\n- Equilátero: Os três lados tem o mesmo comprimento\n- Escaleno: Três lados de comprimento diferente \n\nNote que a ordem das condições importa! Seguem alguns exemplos de interação com seu código no terminal. \n\n```\nDigite o comprimento do lado 1: 4\nDigite o comprimento do lado 2: 4\nDigite o comprimento do lado 3: 6\nTriângulo: Isóceles\n```\n\n```\nDigite o comprimento do lado 1: 5\nDigite o comprimento do lado 2: 5\nDigite o comprimento do lado 3: 5\nTriângulo: Equilátero\n```\n\n```\nDigite o comprimento do lado 1: 7\nDigite o comprimento do lado 2: 4\nDigite o comprimento do lado 3: 9\nTriângulo: Escaleno\n```\n\n",
      "metadata": {}
    },
    {
      "id": "cfcf9a80",
      "cell_type": "code",
      "source": "lado1 = float(input(f\"Digite a medida do lado 1 do triangulo\"))\nlado2 = float(input(f\"Digite a medida do lado 2 do triangulo\"))\nlado3 = float(input(f\"Digite a medida do lado 3 do triangulo\"))\n\nif (lado1 == lado2) and (lado1 == lado3) and (lado2 == lado3):\n    print(f\"O triangulo é Equilatero\")\nelif lado1 == lado2 and lado1 == lado3:\n    print(f\"O triangulo é Isóceles\")\nelse:\n    print(f\"O triangulo é Escaleno\")",
      "metadata": {
        "trusted": true,
        "scrolled": true
      },
      "outputs": [
        {
          "output_type": "stream",
          "name": "stdin",
          "text": "Digite a medida do lado 1 do triangulo 5\nDigite a medida do lado 2 do triangulo 5\nDigite a medida do lado 3 do triangulo 5\n"
        },
        {
          "name": "stdout",
          "output_type": "stream",
          "text": "O triangulo é Equilatero\n"
        }
      ],
      "execution_count": 9
    },
    {
      "id": "ed3405fb",
      "cell_type": "markdown",
      "source": "### Q3.\n\nVocê está desenvolvendo um sistema de avaliação de desempenho para um jogo. Escreva um programa em Python que avalia a pontuação do jogador em uma missão e atribui uma classificação com base nas seguintes condições:\n\n- Se a pontuação for menor que 70, atribua a classificação \"Insatisfatório\".\n- Se a pontuação for maior ou igual a 70, atribua a classificação \"Regular\".\n- Se a pontuação for maior ou igual a 80, atribua a classificação \"Bom\".\n- Se a pontuação for maior ou igual a 90, atribua a classificação \"Excelente\".\n\nEscreva um programa que solicita ao usuário a pontuação e imprime a classificação correspondente.",
      "metadata": {}
    },
    {
      "id": "a7a842ae",
      "cell_type": "code",
      "source": "pontuacao = int(input(\"Digite qual foi a sua pontuação: \"))\nif pontuacao < 70:\n    print(f\"Insatisfatorio\")\nelif pontuacao > 70 and pontuacao < 80:\n    print(f\"Regular\")\nelif pontuacao >= 80 and pontuacao < 90:\n    print(f\"Bom\")\nelse:\n    print(f\"Execelente\")",
      "metadata": {
        "trusted": true
      },
      "outputs": [
        {
          "output_type": "stream",
          "name": "stdin",
          "text": "Digite qual foi a sua pontuação:  95\n"
        },
        {
          "name": "stdout",
          "output_type": "stream",
          "text": "Execelente\n"
        }
      ],
      "execution_count": 20
    },
    {
      "id": "6cafaa50",
      "cell_type": "markdown",
      "source": "### Q4.\n\nVocê está implementando um sistema de desconto em uma loja online. Escreva um programa em Python que calcula o desconto com base no valor total da compra e atribui diferentes níveis de desconto de acordo com as seguintes condições:\n\n- Se o valor total da compra for menor que R\\$ 50, não há desconto.\n- Se o valor total da compra for maior ou igual a R\\$ 50, atribua um desconto de 10%.\n- Se o valor total da compra for maior ou igual a R\\$ 100, atribua um desconto de 20%.\n\n\nSeguem alguns exemplos de interação com seu código no terminal. Preste atenção na formatação esperada para as saídas.\n\n```\nDigite o valor total da compra: 120\nDesconto aplicado: 20.0%\nValor final com desconto: R$96.00\n```\n\n```\nDigite o valor total da compra: 65\nDesconto aplicado: 10.0%\nValor final com desconto: R$58.50\n```\n\n```\nDigite o valor total da compra: 40\nDesconto aplicado: 0.0%\nValor final com desconto: R$40.00\n```\n\n\n",
      "metadata": {}
    },
    {
      "id": "3b1b1929",
      "cell_type": "code",
      "source": "valor_total = float(input(\"Digite o valor total da compra: \"))\ndesconto_aplicado = 0\nvalor_final = 0\n\nif valor_total >= 100:\n    desconto_aplicado = 0.20\nelif valor_total >= 50:\n    desconto_aplicado = 0.10\nelse:\n    desconto_aplicado = 0\n\nvalor_final = valor_total - (valor_total * desconto_aplicado)\n\nprint(f\"Desconto aplicado: {desconto_aplicado * 100:.1f}%\")\nprint(f\"Valor final com desconto: R${valor_final:.2f}\")\n",
      "metadata": {
        "trusted": true
      },
      "outputs": [
        {
          "output_type": "stream",
          "name": "stdin",
          "text": "Digite o valor total da compra:  1000\n"
        },
        {
          "name": "stdout",
          "output_type": "stream",
          "text": "Desconto aplicado: 20.0%\nValor final com desconto: R$800.00\n"
        }
      ],
      "execution_count": 2
    },
    {
      "id": "dc5db6d7",
      "cell_type": "markdown",
      "source": "### Q5.\n\nCrie um sistema de autenticação em Python. O sistema deve funcionar da\nseguinte maneira:\n\n1. Um banco de dados fictício deve ser implementado como um dicionário,\nonde a chave é o nome do usuário e o valor é uma tupla contendo a senha e\no nível de acesso do usuário.\n\n2. O programa deve solicitar ao usuário que insira seu usuário e senha.\n\n3. O sistema deve:\n* Verificar se o login existe no banco de dados.\n* Comparar a senha fornecida com a armazenada no banco.\n* Caso as credenciais sejam válidas, exibir uma mensagem de sucesso e o nível de acesso do usuário.\n* Caso seja inválido deverá retornar mensagem: “Erro: Usuário ou\nsenha inválidos.”\n* O programa deve rodar em um laço para permitir múltiplas\ntentativas de login, mas também permitir que o usuário opte por sair\ndo programa.\n\nAtributos dos 3 usuários cadastrados no sistema (usuário, senha e nível)\n\n1) admin – admin123 – Administrador\n2) usuario1 – senha123 – Usuário Comum\n3) visitante1 – guest2024 – Visitante",
      "metadata": {}
    },
    {
      "id": "b90304eb",
      "cell_type": "code",
      "source": "banco_de_dados = {\n    'admin': ('admin123', 'Administrador'),\n    'usuario1': ('senha123', 'Usuário Comum'),\n    'visitante1': ('guest2024', 'Visitante')\n}\nprint(\"\\n--- Sistema de Autenticação ---\")\nusuario = input(\"Digite seu nome de usuário: \")\nsenha = input(\"Digite sua senha: \")\n\nif usuario in banco_de_dados:\n    senha_correta, nivel_acesso = banco_de_dados[usuario]\n\n    if senha == senha_correta:\n        print(\"\\nAutenticação bem-sucedida!\")\n        print(f\"Bem-vindo(a), {usuario}! Seu nível de acesso é: {nivel_acesso}.\")\n    else:\n        print(\"\\nErro: Usuário ou senha inválidos.\")\nelse:\n    print(\"\\nErro: Usuário ou senha inválidos.\")\n",
      "metadata": {
        "trusted": true
      },
      "outputs": [
        {
          "name": "stdout",
          "output_type": "stream",
          "text": "\n--- Sistema de Autenticação ---\n"
        },
        {
          "output_type": "stream",
          "name": "stdin",
          "text": "Digite seu nome de usuário:  usuario1\nDigite sua senha:  senha123\n"
        },
        {
          "name": "stdout",
          "output_type": "stream",
          "text": "\nAutenticação bem-sucedida!\nBem-vindo(a), usuario1! Seu nível de acesso é: Usuário Comum.\n"
        }
      ],
      "execution_count": 4
    },
    {
      "id": "5686610b-17ee-44f4-bd0e-3b6281a146c3",
      "cell_type": "code",
      "source": "",
      "metadata": {
        "trusted": true
      },
      "outputs": [],
      "execution_count": null
    }
  ]
}