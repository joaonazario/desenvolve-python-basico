{
  "metadata": {
    "kernelspec": {
      "name": "python",
      "display_name": "Python (Pyodide)",
      "language": "python"
    },
    "language_info": {
      "codemirror_mode": {
        "name": "python",
        "version": 3
      },
      "file_extension": ".py",
      "mimetype": "text/x-python",
      "name": "python",
      "nbconvert_exporter": "python",
      "pygments_lexer": "ipython3",
      "version": "3.8"
    }
  },
  "nbformat_minor": 5,
  "nbformat": 4,
  "cells": [
    {
      "id": "0d5035b5",
      "cell_type": "markdown",
      "source": "# Listas\n\n## Aulas 6.1 a 6.5 ",
      "metadata": {}
    },
    {
      "id": "0bdece85",
      "cell_type": "markdown",
      "source": "### Q1. \n\nUsando a função embutida ```map``` e criando uma função ```lambda```, transforme uma lista com os raios de múltiplas circunferências em uma nova lista com as respectivas áreas. O cálculo de cada área é dado por: ```pi*(raio**2)```\n- Use a constante pi da biblioteca math \n- Arredonde o resultado para 2 casas decimais\n",
      "metadata": {}
    },
    {
      "id": "e0e582a8-7c3f-497d-9ca8-dfd8d6d6c159",
      "cell_type": "code",
      "source": "import math\nraios = [1.5, 0.8, 2.3, 5.0]\nareas = map(lambda raio: math.pi * (raio ** 2), raios)\nlista_areas = [round(area, 2) for area in list(areas)]\n\nprint(f\"Lista de raios: {raios}\")\nprint(f\"Lista de áreas: {lista_areas}\")",
      "metadata": {
        "trusted": true
      },
      "outputs": [
        {
          "name": "stdout",
          "output_type": "stream",
          "text": "Lista de raios: [1.5, 0.8, 2.3, 5.0]\nLista de áreas: [7.07, 2.01, 16.62, 78.54]\n"
        }
      ],
      "execution_count": 16
    },
    {
      "id": "88222cc2-231f-4012-8bd8-71ce942c9195",
      "cell_type": "code",
      "source": "",
      "metadata": {
        "trusted": true
      },
      "outputs": [],
      "execution_count": null
    },
    {
      "id": "b0250cff-791e-44b8-aed5-c7f39ad51031",
      "cell_type": "raw",
      "source": "### Q2. \n\nCrie uma função customizada e aplique a função embutida ```filter``` para operar em uma lista de listas contendo os lados de múltiplos triângulos. Construa uma nova lista contendo apenas os triângulos equiláteros, ou seja, com os três lados iguais.\n",
      "metadata": {}
    },
    {
      "id": "47cb0573",
      "cell_type": "code",
      "source": "## Crie a função customizada\ndef testa_equilatero(lados):\n    return lados[0] == lados[1] and lados[1] == lados[2]\ntriangulos = [[2, 2, 2], [3, 4, 5], [3, 2, 2], [4, 4, 4]]\ntriangulos_equilateros = list(filter(testa_equilatero, triangulos))\nprint(f\"Lista de triângulos original: {triangulos}\")\nprint(f\"Lista de triângulos equiláteros: {triangulos_equilateros}\")",
      "metadata": {
        "trusted": true
      },
      "outputs": [
        {
          "name": "stdout",
          "output_type": "stream",
          "text": "Lista de triângulos original: [[2, 2, 2], [3, 4, 5], [3, 2, 2], [4, 4, 4]]\nLista de triângulos equiláteros: [[2, 2, 2], [4, 4, 4]]\n"
        }
      ],
      "execution_count": 18
    },
    {
      "id": "bb62d219",
      "cell_type": "markdown",
      "source": "### Q3. \nCrie uma função chamada ```ordena_por_comprimento``` que aceite uma lista de strings e a ordene com base no comprimento das strings, do menor para o maior. Utilize a função ```sorte``` e uma expressão ```lambda```.",
      "metadata": {}
    },
    {
      "id": "add41556",
      "cell_type": "code",
      "source": "def ordena_por_comprimento(lista_strings):\n    return sorted(lista_strings, key=lambda s: len(s))\nnomes = [\"Joao\", \"Maria\", \"Jose\", \"Gabriela\", \"Sol\", \"Luna\", \"Bento\", \"Enzo\", \"Fernanda\"]\nnomes_ordenados = ordena_por_comprimento(nomes)\nprint(f\"Lista original: {nomes}\")\nprint(f\"Lista ordenada por comprimento: {nomes_ordenados}\")\n",
      "metadata": {
        "trusted": true
      },
      "outputs": [
        {
          "name": "stdout",
          "output_type": "stream",
          "text": "Lista original: ['Joao', 'Maria', 'Jose', 'Gabriela', 'Sol', 'Luna', 'Bento', 'Enzo', 'Fernanda']\nLista ordenada por comprimento: ['Sol', 'Joao', 'Jose', 'Luna', 'Enzo', 'Maria', 'Bento', 'Gabriela', 'Fernanda']\n"
        }
      ],
      "execution_count": 19
    },
    {
      "id": "8710b1a7",
      "cell_type": "markdown",
      "source": "### Q4.\n\nCrie uma lista de listas (uma matriz de 2 dimensões) de tamanho $n \\times n$, com $n$ dado pelo usuário. Cada elemento da matriz deve ser o produto dos índices da linha pela coluna.\n\nExemplo:\n```\nDigite n: 4\nMatriz:\n[[0, 0, 0, 0],\n [0, 1, 2, 3],\n [0, 2, 4, 6],\n [0, 3, 6, 9]]\n```",
      "metadata": {}
    },
    {
      "id": "0b7ee921",
      "cell_type": "code",
      "source": "n = int(input(\"Digite um número inteiro para o tamanho da matriz: \"))\n\nif n <= 0:\n    print(\"Por favor, digite um número positivo.\")\nelse:\n\n    matriz = [[i * j for j in range(n)] for i in range(n)]\n    \n    print(\"\\nMatriz:\")\n\n    for linha in matriz:\n        print(linha)\n",
      "metadata": {
        "trusted": true
      },
      "outputs": [
        {
          "output_type": "stream",
          "name": "stdin",
          "text": "Digite um número inteiro para o tamanho da matriz:  5\n"
        },
        {
          "name": "stdout",
          "output_type": "stream",
          "text": "\nMatriz:\n[0, 0, 0, 0, 0]\n[0, 1, 2, 3, 4]\n[0, 2, 4, 6, 8]\n[0, 3, 6, 9, 12]\n[0, 4, 8, 12, 16]\n"
        }
      ],
      "execution_count": 21
    },
    {
      "id": "f41781df",
      "cell_type": "markdown",
      "source": "### Q5.\n\nDada uma lista de números inteiros, implemente uma função em Python chamada ```pares_unicos``` que encontre e retorne todos os pares únicos de elementos na lista cuja soma seja igual a um determinado valor. Considere que a ordem dos pares não é relevante.",
      "metadata": {}
    },
    {
      "id": "7a76f765",
      "cell_type": "code",
      "source": "def pares_unicos(numeros, soma_objetivo):\n\n    numeros_vistos = set()\n    pares_encontrados = set()\n\n    for numero in numeros:\n        complemento = soma_objetivo - numero\n        \n        if complemento in numeros_vistos:\n\n            par_ordenado = tuple(sorted((numero, complemento)))\n            pares_encontrados.add(par_ordenado)\n        \n\n        numeros_vistos.add(numero)\n    \n    return list(pares_encontrados)\nnums = [3, 4, 5, 6, 7]\nsoma = 10\nresultado = pares_unicos(nums, soma)",
      "metadata": {
        "trusted": true
      },
      "outputs": [],
      "execution_count": 5
    },
    {
      "id": "c9496351-d623-42c8-a2cd-faebbda91ea5",
      "cell_type": "code",
      "source": "",
      "metadata": {
        "trusted": true
      },
      "outputs": [],
      "execution_count": null
    },
    {
      "id": "87e44893",
      "cell_type": "markdown",
      "source": "### Q5.\n\n    # Cria cópias das listas para que a função não altere as originais # Encontra elementos na lista 1 que não estão na lista 2\nEscreva um programa para encontrar a diferença entre duas listas, incluindo elementos duplicados.\n\nEx:\n```\nListas originais: \n[1, 1, 2, 3, 3, 4, 4, 5, 6, 7]\n[1, 1, 2, 4, 5, 6]\nDiferença entre as listas:\n[3, 3, 4, 7]\n```",
      "metadata": {}
    },
    {
      "id": "7edc027c",
      "cell_type": "code",
      "source": "def encontrar_diferenca_listas(lista1, lista2):\n    \n    \n    temp_lista1 = list(lista1)\n    temp_lista2 = list(lista2)\n    diferenca = []\n\n    \n    for elemento in temp_lista1:\n        if elemento in temp_lista2:\n            \n            temp_lista2.remove(elemento)\n        else:\n            \n            diferenca.append(elemento)\n\n    \n    diferenca.extend(temp_lista2)\n\n    return diferenca\n\n\nlista_a = [1, 1, 2, 3, 3, 4, 4, 5, 6, 7]\nlista_b = [1, 1, 2, 4, 5, 6]\n\n\ndiferenca = encontrar_diferenca_listas(lista_a, lista_b)\n\n\nprint(f\"Listas originais:\")\nprint(f\"{lista_a}\")\nprint(f\"{lista_b}\")\nprint(f\"Diferença entre as listas:\")\nprint(diferenca)",
      "metadata": {
        "trusted": true
      },
      "outputs": [
        {
          "name": "stdout",
          "output_type": "stream",
          "text": "Listas originais:\n[1, 1, 2, 3, 3, 4, 4, 5, 6, 7]\n[1, 1, 2, 4, 5, 6]\nDiferença entre as listas:\n[3, 3, 4, 7]\n"
        }
      ],
      "execution_count": 6
    },
    {
      "id": "f4c4236d",
      "cell_type": "markdown",
      "source": "### Q6.\n\nDada uma lista aleatória, escreva um programa que separa os valores em listas menores de acordo com o tamanho solicitado. Caso não seja possível repartir igualmente a lista original, a última sublista deve conter os elementos remanescentes, como indicado no exemplo a seguir.\n\nNote que seu programa deve continuar executando em um laço infinito até que o usuário informe o tamanho 0 na entrada solicitada.\n\n```\nLista original:\n[12, 45, 23, 67, 78, 90, 45, 32, 100, 76, 38, 62, 73, 29, 83]\n\nTamanho para divisão: 3\nSubslistas:\n[[12, 45, 23], [67, 78, 90], [45, 32, 100], [76, 38, 62], [73, 29, 83]]\n\nTamanho para divisão: 4\nSubslistas: [[12, 45, 23, 67], [78, 90, 45, 32], [100, 76, 38, 62], [73, 29, 83]]\n\nTamanho para divisão: 0\n```",
      "metadata": {}
    },
    {
      "id": "792563de",
      "cell_type": "code",
      "source": "import random\nlista = [random.randint(1,100) for i in range(20)]\n\n# Implemente sua solução aqui",
      "metadata": {},
      "outputs": [],
      "execution_count": null
    },
    {
      "id": "c65be32f",
      "cell_type": "markdown",
      "source": "### Q7.\n\nVocê está desenvolvendo um programa para determinar o vencedor de um jogo da velha. Escreva uma função ```avalia_tabuleiro()``` que recebe uma lista representando o estado atual do tabuleiro e determina se há um vencedor. \n\nA lista terá 3 sublistas, cada uma representando uma linha do tabuleiro. Cada elemento das sublistas pode ser 'X', 'O' ou vazio (' ').\n\nO programa deve imprimir o vencedor ('X', 'O'), se houver um, ou \"Empate\" se não houver vencedor. Um vencedor é determinado se houver três 'X' ou três 'O' em linha (horizontal, vertical ou diagonal).\n\nExemplo:\n```python\ntabuleiro = [\n    ['X', 'O', 'X'],\n    [' ', 'X', 'O'],\n    ['O', ' ', 'O']\n]\n```\nO resultado seria \"Empate\", pois não há um vencedor no exemplo fornecido. \n\nExemplo 2:\n```python\ntabuleiro = [\n    ['O', 'X', 'O'],\n    ['X', 'O', 'X'],\n    ['X', ' ', 'O']\n]\n```\nO resultado seria \"O\", pois 'O' venceu na diagonal central.",
      "metadata": {}
    },
    {
      "id": "720ca24d",
      "cell_type": "code",
      "source": "### Escreva a função avalia_tabuleiro()\ndef avalia_tabuleiro(tabuleiro):\n    \n    linhas_a_checar = []\n    \n    linhas_a_checar.extend(tabuleiro)\n    \n    \n    for i in range(3):\n        coluna = [tabuleiro[0][i], tabuleiro[1][i], tabuleiro[2][i]]\n        linhas_a_checar.append(coluna)\n        \n    \n    linhas_a_checar.append([tabuleiro[0][0], tabuleiro[1][1], tabuleiro[2][2]])\n    linhas_a_checar.append([tabuleiro[0][2], tabuleiro[1][1], tabuleiro[2][0]])\n\n    # Verifica cada linha combinada para ver se há um vencedor\n    for linha in linhas_a_checar:\n        if linha[0] == linha[1] == linha[2] and linha[0] != ' ':\n            return linha[0]\n            \n    # Verifica se o tabuleiro está cheio\n    for linha in tabuleiro:\n        if ' ' in linha:\n            return None # O jogo continua, ainda há espaços vazios\n\n    return \"Empate\"\n\n\n\n\n### teste a função nos seguintes tabuleiros\n\ntabuleiro1 = [\n    ['X', 'O', 'X'],\n    [' ', 'X', 'O'],\n    ['O', ' ', 'X']\n]\n\ntabuleiro2 = [\n    ['X', 'O', 'O'],\n    ['X', 'X', 'O'],\n    ['X', 'O', 'X']\n]\n\ntabuleiro3 = [\n    [' ', ' ', ' '],\n    ['X', ' ', 'O'],\n    ['O', 'X', 'X']\n]\n\ntabuleiro4 = [\n    ['O', 'O', 'O'],\n    ['X', ' ', 'X'],\n    ['O', 'X', 'X']\n]\n\ntabuleiro5 = [\n    ['X', 'X', 'O'],\n    ['X', ' ', 'O'],\n    ['O', 'O', 'X']\n]\n\n",
      "metadata": {
        "trusted": true
      },
      "outputs": [],
      "execution_count": 7
    },
    {
      "id": "6b05bf97-f9eb-4b6c-8eab-93801651213c",
      "cell_type": "code",
      "source": "# Avalia e imprime os resultados\nprint(\"--- Teste de Tabuleiros ---\")\n\nresultado1 = avalia_tabuleiro(tabuleiro1)\nprint(f\"Tabuleiro 1: Resultado = {resultado1}\")\n\nresultado2 = avalia_tabuleiro(tabuleiro2)\nprint(f\"Tabuleiro 2: Resultado = {resultado2}\")\n\nresultado3 = avalia_tabuleiro(tabuleiro3)\nprint(f\"Tabuleiro 3: Resultado = {resultado3}\")\n\nresultado4 = avalia_tabuleiro(tabuleiro4)\nprint(f\"Tabuleiro 4: Resultado = {resultado4}\")\n\nresultado5 = avalia_tabuleiro(tabuleiro5)\nprint(f\"Tabuleiro 5: Resultado = {resultado5}\")",
      "metadata": {
        "trusted": true
      },
      "outputs": [
        {
          "name": "stdout",
          "output_type": "stream",
          "text": "--- Teste de Tabuleiros ---\nTabuleiro 1: Resultado = X\nTabuleiro 2: Resultado = X\nTabuleiro 3: Resultado = None\nTabuleiro 4: Resultado = O\nTabuleiro 5: Resultado = None\n"
        }
      ],
      "execution_count": 8
    },
    {
      "id": "0be4968d-2542-4b4e-ba43-12b411b771a1",
      "cell_type": "code",
      "source": "",
      "metadata": {
        "trusted": true
      },
      "outputs": [],
      "execution_count": null
    }
  ]
}